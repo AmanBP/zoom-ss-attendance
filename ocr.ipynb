{
 "cells": [
  {
   "cell_type": "code",
   "execution_count": 1,
   "metadata": {},
   "outputs": [],
   "source": [
    "from PIL import Image\n",
    "import pytesseract\n",
    "import os\n",
    "from location import location"
   ]
  },
  {
   "cell_type": "code",
   "execution_count": 2,
   "metadata": {},
   "outputs": [
    {
     "output_type": "stream",
     "name": "stdout",
     "text": "!!!ENSURE IMAGES ARE NUMBERED from 1 and are jpegs!!!\n"
    }
   ],
   "source": [
    "image_dir = input(\"Enter Image Directory(Press enter to use default directory(if set in location.py)):\")\n",
    "if(len(image_dir)<1):\n",
    "    image_dir = location\n",
    "os.chdir(image_dir)\n",
    "print(\"!!!ENSURE IMAGES ARE NUMBERED from 1 and are jpegs!!!\")\n",
    "limit = int(input(\"Enter Number of images:\"))\n",
    "im = [None]*limit\n",
    "for i in range(limit):\n",
    "    im[i] = Image.open(\"{}.jpeg\".format(i+1))\n",
    "for i in range(limit):\n",
    "    iw, ih = im[i].size\n",
    "    left = 75\n",
    "    top = 0\n",
    "    bottom = ih\n",
    "    right = iw-120\n",
    "    im[i] = im[i].crop((left,top,right,bottom))\n",
    "final_str = pytesseract.image_to_string(im[0],lang=\"eng\")\n",
    "for i in range(1,limit):\n",
    "    final_str = final_str + \"\\n\" + pytesseract.image_to_string(im[i],lang=\"eng\")\n",
    "#print(final_str)"
   ]
  },
  {
   "cell_type": "code",
   "execution_count": 3,
   "metadata": {},
   "outputs": [],
   "source": [
    "values = final_str.split(\" \")\n",
    "values2 = []\n",
    "for val in values:\n",
    "    if(val):\n",
    "        if(\"\\n\" in val):\n",
    "            v = val.split(\"\\n\")\n",
    "            for i in v:\n",
    "                if(i):\n",
    "                    if(\"-\" in i):\n",
    "                        isplit = i.split(\"-\")\n",
    "                        for j in isplit:\n",
    "                            if(j):\n",
    "                                values2.append(j)\n",
    "                    else:\n",
    "                        values2.append(i)\n",
    "        else:\n",
    "            values2.append(val)"
   ]
  },
  {
   "cell_type": "code",
   "execution_count": 4,
   "metadata": {},
   "outputs": [],
   "source": [
    "if(input(\"Clean Through the data?(Only for AIML) (y/n):\") != 'n'):\n",
    "    #print(\"Initial\\n\",values2)\n",
    "    index = 0\n",
    "    for i in range(0,len(values2)):\n",
    "        if(values2[i] == \"Priyadharsini-\"):\n",
    "            index = i-2\n",
    "            break\n",
    "    for i in range(4):\n",
    "        values2.pop(index)\n",
    "    values2.insert(len(values2),\"RA1811026020009\")\n",
    "    #print(\"\\n\\nDeleting 9's BS\\n\",values2)\n",
    "    for i in range(0,len(values2)):\n",
    "        if(values2[i] == \"1811026020059\"):\n",
    "            index = i-1\n",
    "    for i in range(2):\n",
    "        values2.pop(index)\n",
    "    values2.insert(len(values2),\"RA1811026020059\")\n",
    "    #print(\"\\n\\nDeleting 59's BS\\n\",values2)\n",
    "    for i in range(0,len(values2)):\n",
    "        if(values2[i] == \"RA1811026020058_\"):\n",
    "            index = i\n",
    "    for i in range(1):\n",
    "        values2.pop(index)\n",
    "    values2.insert(len(values2),\"RA1811026020058\")\n",
    "    #print(\"Deleted 58's BS\\n\",values2)"
   ]
  },
  {
   "cell_type": "code",
   "execution_count": 6,
   "metadata": {},
   "outputs": [
    {
     "output_type": "stream",
     "name": "stdout",
     "text": "Ensure to Cross-Check!\nAttendance:\n[1, 5, 7, 8, 9, 10, 12, 13, 14, 15, 16, 18, 19, 20, 21, 22, 23, 26, 27, 28, 30, 32, 33, 35, 36, 37, 38, 39, 40, 41, 43, 44, 45, 46, 47, 48, 49, 51, 52, 53, 56, 57, 58, 59, 61]\n"
    }
   ],
   "source": [
    "rolls = []\n",
    "for i in range(len(values2)):\n",
    "    if(values2[i].startswith(\"RA\")):\n",
    "        rolls.append(int(values2[i][len(values2[i])-2:]))\n",
    "    if(values2[i].isnumeric()):\n",
    "        rolls.append(int(values2[i]))\n",
    "print(\"Ensure to Cross-Check!\\nAttendance:\")\n",
    "print(sorted(rolls))"
   ]
  }
 ],
 "metadata": {
  "language_info": {
   "codemirror_mode": {
    "name": "ipython",
    "version": 3
   },
   "file_extension": ".py",
   "mimetype": "text/x-python",
   "name": "python",
   "nbconvert_exporter": "python",
   "pygments_lexer": "ipython3",
   "version": "3.8.0-final"
  },
  "orig_nbformat": 2,
  "kernelspec": {
   "name": "python3",
   "display_name": "Python 3"
  }
 },
 "nbformat": 4,
 "nbformat_minor": 2
}